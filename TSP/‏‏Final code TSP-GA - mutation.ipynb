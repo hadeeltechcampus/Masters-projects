{
 "cells": [
  {
   "cell_type": "code",
   "execution_count": null,
   "id": "90f2944b",
   "metadata": {},
   "outputs": [],
   "source": [
    "#initial code"
   ]
  },
  {
   "cell_type": "code",
   "execution_count": 1,
   "id": "50ee4673",
   "metadata": {},
   "outputs": [],
   "source": [
    "import random\n",
    "import pandas as pd\n",
    "import numpy as np\n",
    "import matplotlib.pyplot as plt\n",
    "from lxml import etree\n",
    "import xml.etree.ElementTree as ET\n",
    "import timeit\n",
    "from time import time\n",
    "import math"
   ]
  },
  {
   "cell_type": "code",
   "execution_count": 2,
   "id": "ae450af5",
   "metadata": {},
   "outputs": [],
   "source": [
    "# Function to parse the XML file and extract city data\n",
    "def parse_xml(xml_file):\n",
    "    city_data = []\n",
    "    tree = ET.parse(xml_file)\n",
    "    root = tree.getroot()\n",
    "\n",
    "    for vertex_elem in root.findall(\".//vertex\"):\n",
    "        edge_costs = [float(edge.get(\"cost\")) for edge in vertex_elem]\n",
    "        city_data.append(edge_costs)\n",
    "\n",
    "    return city_data"
   ]
  },
  {
   "cell_type": "code",
   "execution_count": 35,
   "id": "283a65d0",
   "metadata": {},
   "outputs": [],
   "source": [
    "cities = parse_xml(\"burma14.xml\")\n",
    "#cities = parse_xml(\"brazil58.xml\")"
   ]
  },
  {
   "cell_type": "code",
   "execution_count": 36,
   "id": "b728e470",
   "metadata": {
    "scrolled": true
   },
   "outputs": [
    {
     "name": "stdout",
     "output_type": "stream",
     "text": [
      "Vertex 1 - Edge Costs: [153.0, 510.0, 706.0, 966.0, 581.0, 455.0, 70.0, 160.0, 372.0, 157.0, 567.0, 342.0, 398.0]\n",
      "Vertex 2 - Edge Costs: [153.0, 422.0, 664.0, 997.0, 598.0, 507.0, 197.0, 311.0, 479.0, 310.0, 581.0, 417.0, 376.0]\n",
      "Vertex 3 - Edge Costs: [510.0, 422.0, 289.0, 744.0, 390.0, 437.0, 491.0, 645.0, 880.0, 618.0, 374.0, 455.0, 211.0]\n",
      "Vertex 4 - Edge Costs: [706.0, 664.0, 289.0, 491.0, 265.0, 410.0, 664.0, 804.0, 1070.0, 768.0, 259.0, 499.0, 310.0]\n",
      "Vertex 5 - Edge Costs: [966.0, 997.0, 744.0, 491.0, 400.0, 514.0, 902.0, 990.0, 1261.0, 947.0, 418.0, 635.0, 636.0]\n",
      "Vertex 6 - Edge Costs: [581.0, 598.0, 390.0, 265.0, 400.0, 168.0, 522.0, 634.0, 910.0, 593.0, 19.0, 284.0, 239.0]\n",
      "Vertex 7 - Edge Costs: [455.0, 507.0, 437.0, 410.0, 514.0, 168.0, 389.0, 482.0, 757.0, 439.0, 163.0, 124.0, 232.0]\n",
      "Vertex 8 - Edge Costs: [70.0, 197.0, 491.0, 664.0, 902.0, 522.0, 389.0, 154.0, 406.0, 133.0, 508.0, 273.0, 355.0]\n",
      "Vertex 9 - Edge Costs: [160.0, 311.0, 645.0, 804.0, 990.0, 634.0, 482.0, 154.0, 276.0, 43.0, 623.0, 358.0, 498.0]\n",
      "Vertex 10 - Edge Costs: [372.0, 479.0, 880.0, 1070.0, 1261.0, 910.0, 757.0, 406.0, 276.0, 318.0, 898.0, 633.0, 761.0]\n",
      "Vertex 11 - Edge Costs: [157.0, 310.0, 618.0, 768.0, 947.0, 593.0, 439.0, 133.0, 43.0, 318.0, 582.0, 315.0, 464.0]\n",
      "Vertex 12 - Edge Costs: [567.0, 581.0, 374.0, 259.0, 418.0, 19.0, 163.0, 508.0, 623.0, 898.0, 582.0, 275.0, 221.0]\n",
      "Vertex 13 - Edge Costs: [342.0, 417.0, 455.0, 499.0, 635.0, 284.0, 124.0, 273.0, 358.0, 633.0, 315.0, 275.0, 247.0]\n",
      "Vertex 14 - Edge Costs: [398.0, 376.0, 211.0, 310.0, 636.0, 239.0, 232.0, 355.0, 498.0, 761.0, 464.0, 221.0, 247.0]\n"
     ]
    }
   ],
   "source": [
    "for i, vertex in enumerate(cities, start=1):\n",
    "        print(f\"Vertex {i} - Edge Costs: {vertex}\")"
   ]
  },
  {
   "cell_type": "code",
   "execution_count": 37,
   "id": "a8188f42",
   "metadata": {},
   "outputs": [],
   "source": [
    "# Calculate the total distance of a tour\n",
    "def tour_distance(tour, distances):\n",
    "    total_distance = 0\n",
    "    for i in range(len(tour) - 1):\n",
    "        total_distance += distances[tour[i]][tour[i + 1]]\n",
    "    total_distance += distances[tour[-1]][tour[0]]  # Return to the starting city\n",
    "    return total_distance"
   ]
  },
  {
   "cell_type": "code",
   "execution_count": 38,
   "id": "951b7666",
   "metadata": {},
   "outputs": [],
   "source": [
    "# Generate an initial population of random tours\n",
    "def generate_population(num_individuals, num_cities):\n",
    "    population = []\n",
    "    for _ in range(num_individuals):\n",
    "        tour = list(range(num_cities))\n",
    "        random.shuffle(tour)\n",
    "        population.append(tour)\n",
    "    return population"
   ]
  },
  {
   "cell_type": "code",
   "execution_count": 39,
   "id": "c0308853",
   "metadata": {},
   "outputs": [],
   "source": [
    "# Perform single-point crossover\n",
    "def single_point_crossover(parent1, parent2):\n",
    "    crossover_point = random.randint(0, len(parent1))\n",
    "    child1 = parent1[:crossover_point] + [c for c in parent2 if c not in parent1[:crossover_point]]\n",
    "    child2 = parent2[:crossover_point] + [c for c in parent1 if c not in parent2[:crossover_point]]\n",
    "    return child1, child2\n"
   ]
  },
  {
   "cell_type": "code",
   "execution_count": 40,
   "id": "6ab041f3",
   "metadata": {},
   "outputs": [],
   "source": [
    "# Perform swap mutation\n",
    "def swap_mutation(individual):\n",
    "    idx1, idx2 = random.sample(range(len(individual)), 2)\n",
    "    individual[idx1], individual[idx2] = individual[idx2], individual[idx1]\n",
    "    return individual"
   ]
  },
  {
   "cell_type": "code",
   "execution_count": 41,
   "id": "4dec3d71",
   "metadata": {},
   "outputs": [],
   "source": [
    "def mutate_inversion(individual):\n",
    "    \n",
    "    # Select two random positions in the chromosome\n",
    "    position1 = random.randint(0, len(individual) - 1)\n",
    "    position2 = random.randint(0, len(individual) - 1)\n",
    "\n",
    "    # Ensure position1 is smaller than position2\n",
    "    if position1 > position2:\n",
    "        position1, position2 = position2, position1\n",
    "\n",
    "    # Reverse the subsequence between position1 and position2\n",
    "    individual[position1:position2+1] = reversed(individual[position1:position2+1])\n",
    "\n",
    "    return individual"
   ]
  },
  {
   "cell_type": "code",
   "execution_count": 42,
   "id": "12d33199",
   "metadata": {},
   "outputs": [],
   "source": [
    "# EA main loop\n",
    "\n",
    "def evolutionary_algorithm(cities, num_generations, population_size, mutation_rate):\n",
    "    \n",
    "    num_cities = len(cities)\n",
    "    distances = np.zeros((num_cities, num_cities))\n",
    "    for i in range(num_cities):\n",
    "        for j in range(num_cities):\n",
    "            distances[i][j] = np.linalg.norm(np.array(cities[i]) - np.array(cities[j]))\n",
    "\n",
    "    population = generate_population(population_size, num_cities)\n",
    "    best_distance = 9999999\n",
    "    best_tour = None\n",
    "    distances_log = []\n",
    "\n",
    "    for generation in range(num_generations):\n",
    "        new_population = []\n",
    "        for _ in range(population_size // 2):\n",
    "            parent1, parent2 = random.sample(population, 2)\n",
    "            child1, child2 = single_point_crossover(parent1, parent2)\n",
    "            if random.random() < mutation_rate:\n",
    "                child1 = mutate_inversion(child1)\n",
    "            if random.random() < mutation_rate:\n",
    "                child2 = swap_mutation(child2)\n",
    "            new_population.extend([child1, child2])\n",
    "\n",
    "        population = new_population\n",
    "        # Calculate and store the best distance in each generation\n",
    "        for individual in population:\n",
    "            distance = tour_distance(individual, distances)\n",
    "            if distance < best_distance:\n",
    "                best_distance = distance\n",
    "                best_tour = individual\n",
    "        distances_log.append(best_distance)\n",
    "\n",
    "    return best_tour, best_distance, distances_log\n"
   ]
  },
  {
   "cell_type": "code",
   "execution_count": 43,
   "id": "9c3164b0",
   "metadata": {},
   "outputs": [],
   "source": [
    "# Set EA parameters\n",
    "num_generations = 10000\n",
    "population_size = 50\n",
    "mutation_rate = 0.1\n",
    "\n",
    "iterations = [i for i in range(0,num_generations)]\n",
    "iteration_db = pd.DataFrame({'iterations':iterations})\n",
    "\n",
    "t0 = time()\n",
    "    \n",
    "best_tour,best_distance,distances_log =evolutionary_algorithm(cities, num_generations, population_size, mutation_rate)\n",
    "\n",
    "t1 = time()\n",
    "\n",
    "iteration_db['min_distance']=distances_log\n"
   ]
  },
  {
   "cell_type": "code",
   "execution_count": 44,
   "id": "6ccda4fa",
   "metadata": {},
   "outputs": [
    {
     "data": {
      "text/html": [
       "<div>\n",
       "<style scoped>\n",
       "    .dataframe tbody tr th:only-of-type {\n",
       "        vertical-align: middle;\n",
       "    }\n",
       "\n",
       "    .dataframe tbody tr th {\n",
       "        vertical-align: top;\n",
       "    }\n",
       "\n",
       "    .dataframe thead th {\n",
       "        text-align: right;\n",
       "    }\n",
       "</style>\n",
       "<table border=\"1\" class=\"dataframe\">\n",
       "  <thead>\n",
       "    <tr style=\"text-align: right;\">\n",
       "      <th></th>\n",
       "      <th>iterations</th>\n",
       "      <th>min_distance</th>\n",
       "    </tr>\n",
       "  </thead>\n",
       "  <tbody>\n",
       "    <tr>\n",
       "      <th>0</th>\n",
       "      <td>0</td>\n",
       "      <td>13325.161381</td>\n",
       "    </tr>\n",
       "    <tr>\n",
       "      <th>1</th>\n",
       "      <td>1</td>\n",
       "      <td>13325.161381</td>\n",
       "    </tr>\n",
       "    <tr>\n",
       "      <th>2</th>\n",
       "      <td>2</td>\n",
       "      <td>12872.507890</td>\n",
       "    </tr>\n",
       "    <tr>\n",
       "      <th>3</th>\n",
       "      <td>3</td>\n",
       "      <td>11400.071625</td>\n",
       "    </tr>\n",
       "    <tr>\n",
       "      <th>4</th>\n",
       "      <td>4</td>\n",
       "      <td>11400.071625</td>\n",
       "    </tr>\n",
       "    <tr>\n",
       "      <th>...</th>\n",
       "      <td>...</td>\n",
       "      <td>...</td>\n",
       "    </tr>\n",
       "    <tr>\n",
       "      <th>9995</th>\n",
       "      <td>9995</td>\n",
       "      <td>10982.969879</td>\n",
       "    </tr>\n",
       "    <tr>\n",
       "      <th>9996</th>\n",
       "      <td>9996</td>\n",
       "      <td>10982.969879</td>\n",
       "    </tr>\n",
       "    <tr>\n",
       "      <th>9997</th>\n",
       "      <td>9997</td>\n",
       "      <td>10982.969879</td>\n",
       "    </tr>\n",
       "    <tr>\n",
       "      <th>9998</th>\n",
       "      <td>9998</td>\n",
       "      <td>10982.969879</td>\n",
       "    </tr>\n",
       "    <tr>\n",
       "      <th>9999</th>\n",
       "      <td>9999</td>\n",
       "      <td>10982.969879</td>\n",
       "    </tr>\n",
       "  </tbody>\n",
       "</table>\n",
       "<p>10000 rows × 2 columns</p>\n",
       "</div>"
      ],
      "text/plain": [
       "      iterations  min_distance\n",
       "0              0  13325.161381\n",
       "1              1  13325.161381\n",
       "2              2  12872.507890\n",
       "3              3  11400.071625\n",
       "4              4  11400.071625\n",
       "...          ...           ...\n",
       "9995        9995  10982.969879\n",
       "9996        9996  10982.969879\n",
       "9997        9997  10982.969879\n",
       "9998        9998  10982.969879\n",
       "9999        9999  10982.969879\n",
       "\n",
       "[10000 rows x 2 columns]"
      ]
     },
     "execution_count": 44,
     "metadata": {},
     "output_type": "execute_result"
    }
   ],
   "source": [
    "iteration_db"
   ]
  },
  {
   "cell_type": "code",
   "execution_count": 45,
   "id": "19504bc2",
   "metadata": {},
   "outputs": [
    {
     "data": {
      "image/png": "[encoded data removed]",
      "text/plain": [
       "<Figure size 640x480 with 1 Axes>"
      ]
     },
     "metadata": {},
     "output_type": "display_data"
    },
    {
     "name": "stdout",
     "output_type": "stream",
     "text": [
      "Best Tour: [1, 0, 8, 9, 10, 2, 4, 3, 5, 11, 13, 6, 12, 7]\n",
      "Best Distance: 10982.969879062035\n",
      "Evelotionary algorithm takes 4.126682 seconds\n"
     ]
    }
   ],
   "source": [
    "plt.plot(distances_log)\n",
    "plt.xlabel(\"Generation\")\n",
    "plt.ylabel(\"Best Distance\")\n",
    "plt.title(\"Convergence Curve - mutate inversion\")\n",
    "plt.show()\n",
    "print(\"Best Tour:\", best_tour)\n",
    "print(\"Best Distance:\", best_distance)\n",
    "print ('Evelotionary algorithm takes %f' %(t1-t0)+ ' seconds')"
   ]
  },
  {
   "cell_type": "code",
   "execution_count": 12,
   "id": "91a0dfe2",
   "metadata": {},
   "outputs": [
    {
     "data": {
      "image/png": "[encoded data removed]",
      "text/plain": [
       "<Figure size 640x480 with 1 Axes>"
      ]
     },
     "metadata": {},
     "output_type": "display_data"
    }
   ],
   "source": [
    " # Plot convergence curve\n",
    "fig, (ax2) = plt.subplots(1)\n",
    "fig.suptitle('Experiment Performance')\n",
    "ax2.plot(iterations, iteration_db['min_distance'])\n",
    "plt.xlabel(\"Iteration\")\n",
    "plt.ylabel(\"Distance\")\n",
    "plt.title(\"Convergence Curve\")\n",
    "plt.show()\n"
   ]
  },
  {
   "cell_type": "markdown",
   "id": "c7d5fc1a",
   "metadata": {},
   "source": [
    "#Brazil:"
   ]
  },
  {
   "cell_type": "code",
   "execution_count": 43,
   "id": "2d2f7cf8",
   "metadata": {},
   "outputs": [],
   "source": []
  },
  {
   "cell_type": "code",
   "execution_count": 14,
   "id": "9a13f376",
   "metadata": {},
   "outputs": [
    {
     "name": "stdout",
     "output_type": "stream",
     "text": [
      "Evelotionary algorithm takes 4.131059 seconds\n"
     ]
    }
   ],
   "source": []
  },
  {
   "cell_type": "code",
   "execution_count": null,
   "id": "c54b1b93",
   "metadata": {},
   "outputs": [],
   "source": []
  },
  {
   "cell_type": "code",
   "execution_count": 9,
   "id": "11cccb7c",
   "metadata": {},
   "outputs": [],
   "source": [
    "# EA main loop\n",
    "\n",
    "def evolutionary_algorithm(cities, num_generations, population_size, mutation_rate):\n",
    "    \n",
    "    num_cities = len(cities)\n",
    "    distances = np.zeros((num_cities, num_cities))\n",
    "    for i in range(num_cities):\n",
    "        for j in range(num_cities):\n",
    "            distances[i][j] = np.linalg.norm(np.array(cities[i]) - np.array(cities[j]))\n",
    "\n",
    "    population = generate_population(population_size, num_cities)\n",
    "    best_distance = 9999999\n",
    "    best_tour = None\n",
    "    distances_log = []\n",
    "\n",
    "    for generation in range(num_generations):\n",
    "        new_population = []\n",
    "        for _ in range(population_size // 2):\n",
    "            parent1, parent2 = random.sample(population, 2)\n",
    "            child1, child2 = single_point_crossover(parent1, parent2)\n",
    "            if random.random() < mutation_rate:\n",
    "                child1 = swap_mutation(child1)\n",
    "            if random.random() < mutation_rate:\n",
    "                child2 = swap_mutation(child2)\n",
    "            new_population.extend([child1, child2])\n",
    "\n",
    "        population = new_population\n",
    "        # Calculate and store the best distance in each generation\n",
    "        for individual in population:\n",
    "            distance = tour_distance(individual, distances)\n",
    "            if distance < best_distance:\n",
    "                best_distance = distance\n",
    "                best_tour = individual\n",
    "        distances_log.append(best_distance)\n",
    "\n",
    "    return best_tour, best_distance, distances_log\n"
   ]
  },
  {
   "cell_type": "code",
   "execution_count": 10,
   "id": "47b4d148",
   "metadata": {},
   "outputs": [],
   "source": [
    "# Set EA parameters\n",
    "num_generations = 10000\n",
    "population_size = 50\n",
    "mutation_rate = 0.1\n",
    "\n",
    "iterations = [i for i in range(0,num_generations)]\n",
    "iteration_db = pd.DataFrame({'iterations':iterations})\n",
    "\n",
    "t0 = time()\n",
    "    \n",
    "best_tour,best_distance,distances_log =evolutionary_algorithm(cities, num_generations, population_size, mutation_rate)\n",
    "\n",
    "t1 = time()\n",
    "\n",
    "iteration_db['min_distance']=distances_log\n"
   ]
  }
 ],
 "metadata": {
  "kernelspec": {
   "display_name": "Python 3 (ipykernel)",
   "language": "python",
   "name": "python3"
  },
  "language_info": {
   "codemirror_mode": {
    "name": "ipython",
    "version": 3
   },
   "file_extension": ".py",
   "mimetype": "text/x-python",
   "name": "python",
   "nbconvert_exporter": "python",
   "pygments_lexer": "ipython3",
   "version": "3.11.3"
  }
 },
 "nbformat": 4,
 "nbformat_minor": 5
}
