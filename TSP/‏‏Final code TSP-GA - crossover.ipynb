{
 "cells": [
  {
   "cell_type": "code",
   "execution_count": null,
   "id": "90f2944b",
   "metadata": {},
   "outputs": [],
   "source": [
    "#initial code"
   ]
  },
  {
   "cell_type": "code",
   "execution_count": 37,
   "id": "50ee4673",
   "metadata": {},
   "outputs": [],
   "source": [
    "import random\n",
    "import pandas as pd\n",
    "import numpy as np\n",
    "import matplotlib.pyplot as plt\n",
    "from lxml import etree\n",
    "import xml.etree.ElementTree as ET\n",
    "import timeit\n",
    "from time import time\n",
    "import math\n",
    "import seaborn as sns"
   ]
  },
  {
   "cell_type": "code",
   "execution_count": 2,
   "id": "ae450af5",
   "metadata": {},
   "outputs": [],
   "source": [
    "# Function to parse the XML file and extract city data\n",
    "def parse_xml(xml_file):\n",
    "    city_data = []\n",
    "    tree = ET.parse(xml_file)\n",
    "    root = tree.getroot()\n",
    "\n",
    "    for vertex_elem in root.findall(\".//vertex\"):\n",
    "        edge_costs = [float(edge.get(\"cost\")) for edge in vertex_elem]\n",
    "        city_data.append(edge_costs)\n",
    "\n",
    "    return city_data"
   ]
  },
  {
   "cell_type": "code",
   "execution_count": 3,
   "id": "283a65d0",
   "metadata": {},
   "outputs": [],
   "source": [
    " cities = parse_xml(\"burma14.xml\")"
   ]
  },
  {
   "cell_type": "code",
   "execution_count": 43,
   "id": "2d2f7cf8",
   "metadata": {},
   "outputs": [],
   "source": [
    "#cities = parse_xml(\"brazil58.xml\")"
   ]
  },
  {
   "cell_type": "code",
   "execution_count": 4,
   "id": "b728e470",
   "metadata": {
    "scrolled": true
   },
   "outputs": [
    {
     "name": "stdout",
     "output_type": "stream",
     "text": [
      "Vertex 1 - Edge Costs: [153.0, 510.0, 706.0, 966.0, 581.0, 455.0, 70.0, 160.0, 372.0, 157.0, 567.0, 342.0, 398.0]\n",
      "Vertex 2 - Edge Costs: [153.0, 422.0, 664.0, 997.0, 598.0, 507.0, 197.0, 311.0, 479.0, 310.0, 581.0, 417.0, 376.0]\n",
      "Vertex 3 - Edge Costs: [510.0, 422.0, 289.0, 744.0, 390.0, 437.0, 491.0, 645.0, 880.0, 618.0, 374.0, 455.0, 211.0]\n",
      "Vertex 4 - Edge Costs: [706.0, 664.0, 289.0, 491.0, 265.0, 410.0, 664.0, 804.0, 1070.0, 768.0, 259.0, 499.0, 310.0]\n",
      "Vertex 5 - Edge Costs: [966.0, 997.0, 744.0, 491.0, 400.0, 514.0, 902.0, 990.0, 1261.0, 947.0, 418.0, 635.0, 636.0]\n",
      "Vertex 6 - Edge Costs: [581.0, 598.0, 390.0, 265.0, 400.0, 168.0, 522.0, 634.0, 910.0, 593.0, 19.0, 284.0, 239.0]\n",
      "Vertex 7 - Edge Costs: [455.0, 507.0, 437.0, 410.0, 514.0, 168.0, 389.0, 482.0, 757.0, 439.0, 163.0, 124.0, 232.0]\n",
      "Vertex 8 - Edge Costs: [70.0, 197.0, 491.0, 664.0, 902.0, 522.0, 389.0, 154.0, 406.0, 133.0, 508.0, 273.0, 355.0]\n",
      "Vertex 9 - Edge Costs: [160.0, 311.0, 645.0, 804.0, 990.0, 634.0, 482.0, 154.0, 276.0, 43.0, 623.0, 358.0, 498.0]\n",
      "Vertex 10 - Edge Costs: [372.0, 479.0, 880.0, 1070.0, 1261.0, 910.0, 757.0, 406.0, 276.0, 318.0, 898.0, 633.0, 761.0]\n",
      "Vertex 11 - Edge Costs: [157.0, 310.0, 618.0, 768.0, 947.0, 593.0, 439.0, 133.0, 43.0, 318.0, 582.0, 315.0, 464.0]\n",
      "Vertex 12 - Edge Costs: [567.0, 581.0, 374.0, 259.0, 418.0, 19.0, 163.0, 508.0, 623.0, 898.0, 582.0, 275.0, 221.0]\n",
      "Vertex 13 - Edge Costs: [342.0, 417.0, 455.0, 499.0, 635.0, 284.0, 124.0, 273.0, 358.0, 633.0, 315.0, 275.0, 247.0]\n",
      "Vertex 14 - Edge Costs: [398.0, 376.0, 211.0, 310.0, 636.0, 239.0, 232.0, 355.0, 498.0, 761.0, 464.0, 221.0, 247.0]\n"
     ]
    }
   ],
   "source": [
    "for i, vertex in enumerate(cities, start=1):\n",
    "        print(f\"Vertex {i} - Edge Costs: {vertex}\")"
   ]
  },
  {
   "cell_type": "code",
   "execution_count": 5,
   "id": "a8188f42",
   "metadata": {},
   "outputs": [],
   "source": [
    "# Calculate the total distance of a tour\n",
    "def tour_distance(tour, distances):\n",
    "    total_distance = 0\n",
    "    for i in range(len(tour) - 1):\n",
    "        total_distance += distances[tour[i]][tour[i + 1]]\n",
    "    total_distance += distances[tour[-1]][tour[0]]  # Return to the starting city\n",
    "    return total_distance"
   ]
  },
  {
   "cell_type": "code",
   "execution_count": 60,
   "id": "951b7666",
   "metadata": {},
   "outputs": [],
   "source": [
    "# Generate an initial population of random tours\n",
    "def generate_population(num_individuals, num_cities):\n",
    "    population = []\n",
    "    for _ in range(num_individuals):\n",
    "        tour = list(range(num_cities))\n",
    "        random.shuffle(tour)\n",
    "        population.append(tour)\n",
    "    return population"
   ]
  },
  {
   "cell_type": "code",
   "execution_count": 7,
   "id": "c0308853",
   "metadata": {},
   "outputs": [],
   "source": [
    "# Perform single-point crossover\n",
    "def crossover_fixed_point(parent1, parent2):\n",
    "    crossover_point = random.randint(1, len(parent1)-1)\n",
    "    child1 = parent1[:crossover_point] + [c for c in parent2 if c not in parent1[:crossover_point]]\n",
    "    child2 = parent2[:crossover_point] + [c for c in parent1 if c not in parent2[:crossover_point]]\n",
    "    return child1, child2\n"
   ]
  },
  {
   "cell_type": "code",
   "execution_count": 51,
   "id": "897d3b56",
   "metadata": {},
   "outputs": [],
   "source": [
    "def crossover_ordered (parent1, parent2):\n",
    "\n",
    "    size = len(parent1)\n",
    "\n",
    "    # Choose random start/end position for crossover\n",
    "    child1, child2 = [-1] * size, [-1] * size\n",
    "    start, end = sorted([random.randrange(size) for _ in range(2)])\n",
    "\n",
    "\n",
    "    child1_inherited = []\n",
    "    child2_inherited = []\n",
    "    for i in range(start, end + 1):\n",
    "        child1[i] = parent1[i]\n",
    "        child2[i] = parent2[i]\n",
    "        child1_inherited.append(parent1[i])\n",
    "        child2_inherited.append(parent2[i])\n",
    "\n",
    "    #print(child1, child2)\n",
    "  \n",
    "    current_parent2_position, current_parent1_position = 0, 0\n",
    "\n",
    "    fixed_pos = list(range(start, end + 1))       \n",
    "    i = 0\n",
    "    while i < size:\n",
    "        if i in fixed_pos:\n",
    "            i += 1\n",
    "            continue\n",
    "\n",
    "        test_child1 = child1[i]\n",
    "        if test_child1==-1: #to be filled\n",
    "            parent2_trait = parent2[current_parent2_position]\n",
    "            while parent2_trait in child1_inherited:\n",
    "                current_parent2_position += 1\n",
    "                parent2_trait = parent2[current_parent2_position]\n",
    "            child1[i] = parent2_trait\n",
    "            child1_inherited.append(parent2_trait)\n",
    "\n",
    "\n",
    "        i +=1\n",
    "\n",
    "        \n",
    "        test_child2 = child2[i]\n",
    "        if test_child2==-1: #to be filled\n",
    "            parent1_trait = parent1[current_parent1_position]\n",
    "            while parent1_trait in child2_inherited:\n",
    "                current_parent1_position += 1\n",
    "                parent1_trait = parent1[current_parent1_position]\n",
    "            child2[i] = parent1_trait\n",
    "            child2_inherited.append(parent1_trait)\n",
    "            \n",
    "\n",
    "            child1 = child1_inherited\n",
    "\n",
    "            child2= child2_inherited\n",
    "\n",
    "    return child1, child2"
   ]
  },
  {
   "cell_type": "code",
   "execution_count": 8,
   "id": "6ab041f3",
   "metadata": {},
   "outputs": [],
   "source": [
    "# Perform swap mutation\n",
    "def swap_mutation(individual):\n",
    "    idx1, idx2 = random.sample(range(len(individual)), 2)\n",
    "    individual[idx1], individual[idx2] = individual[idx2], individual[idx1]\n",
    "    return individual"
   ]
  },
  {
   "cell_type": "code",
   "execution_count": 52,
   "id": "12d33199",
   "metadata": {},
   "outputs": [],
   "source": [
    "# EA main loop\n",
    "\n",
    "def evolutionary_algorithm(cities, num_generations, population_size, mutation_rate):\n",
    "    \n",
    "    num_cities = len(cities)\n",
    "    distances = np.zeros((num_cities, num_cities))\n",
    "    for i in range(num_cities):\n",
    "        for j in range(num_cities):\n",
    "            distances[i][j] = np.linalg.norm(np.array(cities[i]) - np.array(cities[j]))\n",
    "\n",
    "    population = generate_population(population_size, num_cities)\n",
    "    best_distance = 9999999\n",
    "    best_tour = None\n",
    "    distances_log = []\n",
    "\n",
    "    for generation in range(num_generations):\n",
    "        new_population = []\n",
    "        for _ in range(population_size // 2):\n",
    "            parent1, parent2 = random.sample(population, 2)\n",
    "            child1, child2 = crossover_fixed_point(parent1, parent2)\n",
    "            if random.random() < mutation_rate:\n",
    "                child1 = swap_mutation(child1)\n",
    "            if random.random() < mutation_rate:\n",
    "                child2 = swap_mutation(child2)\n",
    "            new_population.extend([child1, child2])\n",
    "\n",
    "        population = new_population\n",
    "        # Calculate and store the best distance in each generation\n",
    "        for individual in population:\n",
    "            distance = tour_distance(individual, distances)\n",
    "            if distance < best_distance:\n",
    "                best_distance = distance\n",
    "                best_tour = individual\n",
    "        distances_log.append(best_distance)\n",
    "\n",
    "    return best_tour, best_distance, distances_log\n"
   ]
  },
  {
   "cell_type": "code",
   "execution_count": 53,
   "id": "f39576d1",
   "metadata": {},
   "outputs": [],
   "source": [
    "# Set EA parameters\n",
    "num_generations = 10000\n",
    "population_size = 50\n",
    "mutation_rate = 0.1\n",
    "\n",
    "iterations = [i for i in range(0,num_generations)]\n",
    "iteration_db = pd.DataFrame({'iterations':iterations})\n",
    "\n",
    "t0 = time()\n",
    "    \n",
    "best_tour,best_distance,distances_log =evolutionary_algorithm(cities, num_generations, population_size, mutation_rate)\n",
    "\n",
    "t1 = time()\n",
    "\n",
    "iteration_db['min_distance']=distances_log"
   ]
  },
  {
   "cell_type": "code",
   "execution_count": 54,
   "id": "6ccda4fa",
   "metadata": {},
   "outputs": [
    {
     "data": {
      "text/html": [
       "<div>\n",
       "<style scoped>\n",
       "    .dataframe tbody tr th:only-of-type {\n",
       "        vertical-align: middle;\n",
       "    }\n",
       "\n",
       "    .dataframe tbody tr th {\n",
       "        vertical-align: top;\n",
       "    }\n",
       "\n",
       "    .dataframe thead th {\n",
       "        text-align: right;\n",
       "    }\n",
       "</style>\n",
       "<table border=\"1\" class=\"dataframe\">\n",
       "  <thead>\n",
       "    <tr style=\"text-align: right;\">\n",
       "      <th></th>\n",
       "      <th>iterations</th>\n",
       "      <th>min_distance</th>\n",
       "    </tr>\n",
       "  </thead>\n",
       "  <tbody>\n",
       "    <tr>\n",
       "      <th>0</th>\n",
       "      <td>0</td>\n",
       "      <td>13384.291524</td>\n",
       "    </tr>\n",
       "    <tr>\n",
       "      <th>1</th>\n",
       "      <td>1</td>\n",
       "      <td>13384.291524</td>\n",
       "    </tr>\n",
       "    <tr>\n",
       "      <th>2</th>\n",
       "      <td>2</td>\n",
       "      <td>13384.291524</td>\n",
       "    </tr>\n",
       "    <tr>\n",
       "      <th>3</th>\n",
       "      <td>3</td>\n",
       "      <td>13384.291524</td>\n",
       "    </tr>\n",
       "    <tr>\n",
       "      <th>4</th>\n",
       "      <td>4</td>\n",
       "      <td>13384.291524</td>\n",
       "    </tr>\n",
       "    <tr>\n",
       "      <th>...</th>\n",
       "      <td>...</td>\n",
       "      <td>...</td>\n",
       "    </tr>\n",
       "    <tr>\n",
       "      <th>9995</th>\n",
       "      <td>9995</td>\n",
       "      <td>10570.259429</td>\n",
       "    </tr>\n",
       "    <tr>\n",
       "      <th>9996</th>\n",
       "      <td>9996</td>\n",
       "      <td>10570.259429</td>\n",
       "    </tr>\n",
       "    <tr>\n",
       "      <th>9997</th>\n",
       "      <td>9997</td>\n",
       "      <td>10570.259429</td>\n",
       "    </tr>\n",
       "    <tr>\n",
       "      <th>9998</th>\n",
       "      <td>9998</td>\n",
       "      <td>10570.259429</td>\n",
       "    </tr>\n",
       "    <tr>\n",
       "      <th>9999</th>\n",
       "      <td>9999</td>\n",
       "      <td>10570.259429</td>\n",
       "    </tr>\n",
       "  </tbody>\n",
       "</table>\n",
       "<p>10000 rows × 2 columns</p>\n",
       "</div>"
      ],
      "text/plain": [
       "      iterations  min_distance\n",
       "0              0  13384.291524\n",
       "1              1  13384.291524\n",
       "2              2  13384.291524\n",
       "3              3  13384.291524\n",
       "4              4  13384.291524\n",
       "...          ...           ...\n",
       "9995        9995  10570.259429\n",
       "9996        9996  10570.259429\n",
       "9997        9997  10570.259429\n",
       "9998        9998  10570.259429\n",
       "9999        9999  10570.259429\n",
       "\n",
       "[10000 rows x 2 columns]"
      ]
     },
     "execution_count": 54,
     "metadata": {},
     "output_type": "execute_result"
    }
   ],
   "source": [
    "iteration_db"
   ]
  },
  {
   "cell_type": "code",
   "execution_count": 55,
   "id": "310a5ce8",
   "metadata": {},
   "outputs": [],
   "source": [
    "# EA main loop\n",
    "\n",
    "def evolutionary_algorithm2(cities, num_generations, population_size, mutation_rate):\n",
    "    \n",
    "    num_cities = len(cities)\n",
    "    distances = np.zeros((num_cities, num_cities))\n",
    "    for i in range(num_cities):\n",
    "        for j in range(num_cities):\n",
    "            distances[i][j] = np.linalg.norm(np.array(cities[i]) - np.array(cities[j]))\n",
    "\n",
    "    population = generate_population(population_size, num_cities)\n",
    "    best_distance = 9999999\n",
    "    best_tour = None\n",
    "    distances_log = []\n",
    "\n",
    "    for generation in range(num_generations):\n",
    "        new_population = []\n",
    "        for _ in range(population_size // 2):\n",
    "            parent1, parent2 = random.sample(population, 2)\n",
    "            child1, child2 = crossover_ordered(parent1, parent2)\n",
    "            if random.random() < mutation_rate:\n",
    "                child1 = swap_mutation(child1)\n",
    "            if random.random() < mutation_rate:\n",
    "                child2 = swap_mutation(child2)\n",
    "            new_population.extend([child1, child2])\n",
    "\n",
    "        population = new_population\n",
    "        # Calculate and store the best distance in each generation\n",
    "        for individual in population:\n",
    "            distance = tour_distance(individual, distances)\n",
    "            if distance < best_distance:\n",
    "                best_distance = distance\n",
    "                best_tour = individual\n",
    "        distances_log.append(best_distance)\n",
    "\n",
    "    return best_tour, best_distance, distances_log\n"
   ]
  },
  {
   "cell_type": "code",
   "execution_count": 56,
   "id": "9c3164b0",
   "metadata": {},
   "outputs": [
    {
     "ename": "IndexError",
     "evalue": "list index out of range",
     "output_type": "error",
     "traceback": [
      "\u001b[1;31m---------------------------------------------------------------------------\u001b[0m",
      "\u001b[1;31mIndexError\u001b[0m                                Traceback (most recent call last)",
      "Cell \u001b[1;32mIn[56], line 11\u001b[0m\n\u001b[0;32m      7\u001b[0m iteration_db1 \u001b[38;5;241m=\u001b[39m pd\u001b[38;5;241m.\u001b[39mDataFrame({\u001b[38;5;124m'\u001b[39m\u001b[38;5;124miterations\u001b[39m\u001b[38;5;124m'\u001b[39m:iterations})\n\u001b[0;32m      9\u001b[0m t0 \u001b[38;5;241m=\u001b[39m time()\n\u001b[1;32m---> 11\u001b[0m best_tour,best_distance,distances_log \u001b[38;5;241m=\u001b[39mevolutionary_algorithm2(cities, num_generations, population_size, mutation_rate)\n\u001b[0;32m     13\u001b[0m t1 \u001b[38;5;241m=\u001b[39m time()\n\u001b[0;32m     15\u001b[0m iteration_db1[\u001b[38;5;124m'\u001b[39m\u001b[38;5;124mmin_distance\u001b[39m\u001b[38;5;124m'\u001b[39m]\u001b[38;5;241m=\u001b[39mdistances_log\n",
      "Cell \u001b[1;32mIn[55], line 20\u001b[0m, in \u001b[0;36mevolutionary_algorithm2\u001b[1;34m(cities, num_generations, population_size, mutation_rate)\u001b[0m\n\u001b[0;32m     18\u001b[0m \u001b[38;5;28;01mfor\u001b[39;00m _ \u001b[38;5;129;01min\u001b[39;00m \u001b[38;5;28mrange\u001b[39m(population_size \u001b[38;5;241m/\u001b[39m\u001b[38;5;241m/\u001b[39m \u001b[38;5;241m2\u001b[39m):\n\u001b[0;32m     19\u001b[0m     parent1, parent2 \u001b[38;5;241m=\u001b[39m random\u001b[38;5;241m.\u001b[39msample(population, \u001b[38;5;241m2\u001b[39m)\n\u001b[1;32m---> 20\u001b[0m     child1, child2 \u001b[38;5;241m=\u001b[39m crossover_ordered(parent1, parent2)\n\u001b[0;32m     21\u001b[0m     \u001b[38;5;28;01mif\u001b[39;00m random\u001b[38;5;241m.\u001b[39mrandom() \u001b[38;5;241m<\u001b[39m mutation_rate:\n\u001b[0;32m     22\u001b[0m         child1 \u001b[38;5;241m=\u001b[39m swap_mutation(child1)\n",
      "Cell \u001b[1;32mIn[51], line 42\u001b[0m, in \u001b[0;36mcrossover_ordered\u001b[1;34m(parent1, parent2)\u001b[0m\n\u001b[0;32m     36\u001b[0m     child1_inherited\u001b[38;5;241m.\u001b[39mappend(parent2_trait)\n\u001b[0;32m     39\u001b[0m i \u001b[38;5;241m+\u001b[39m\u001b[38;5;241m=\u001b[39m\u001b[38;5;241m1\u001b[39m\n\u001b[1;32m---> 42\u001b[0m test_child2 \u001b[38;5;241m=\u001b[39m child2[i]\n\u001b[0;32m     43\u001b[0m \u001b[38;5;28;01mif\u001b[39;00m test_child2\u001b[38;5;241m==\u001b[39m\u001b[38;5;241m-\u001b[39m\u001b[38;5;241m1\u001b[39m: \u001b[38;5;66;03m#to be filled\u001b[39;00m\n\u001b[0;32m     44\u001b[0m     parent1_trait \u001b[38;5;241m=\u001b[39m parent1[current_parent1_position]\n",
      "\u001b[1;31mIndexError\u001b[0m: list index out of range"
     ]
    }
   ],
   "source": [
    "# Set EA parameters\n",
    "num_generations = 10000\n",
    "population_size = 50\n",
    "mutation_rate = 0.1\n",
    "\n",
    "iterations1 = [i for i in range(0,num_generations)]\n",
    "iteration_db1 = pd.DataFrame({'iterations':iterations})\n",
    "\n",
    "t0 = time()\n",
    "    \n",
    "best_tour,best_distance,distances_log =evolutionary_algorithm2(cities, num_generations, population_size, mutation_rate)\n",
    "\n",
    "t1 = time()\n",
    "\n",
    "iteration_db1['min_distance']=distances_log\n"
   ]
  },
  {
   "cell_type": "code",
   "execution_count": null,
   "id": "a44f0749",
   "metadata": {},
   "outputs": [],
   "source": [
    "iteration_db1"
   ]
  },
  {
   "cell_type": "code",
   "execution_count": 63,
   "id": "91a0dfe2",
   "metadata": {},
   "outputs": [
    {
     "ename": "KeyError",
     "evalue": "'min_distance'",
     "output_type": "error",
     "traceback": [
      "\u001b[1;31m---------------------------------------------------------------------------\u001b[0m",
      "\u001b[1;31mKeyError\u001b[0m                                  Traceback (most recent call last)",
      "File \u001b[1;32m~\\anaconda3\\Lib\\site-packages\\pandas\\core\\indexes\\base.py:3802\u001b[0m, in \u001b[0;36mIndex.get_loc\u001b[1;34m(self, key, method, tolerance)\u001b[0m\n\u001b[0;32m   3801\u001b[0m \u001b[38;5;28;01mtry\u001b[39;00m:\n\u001b[1;32m-> 3802\u001b[0m     \u001b[38;5;28;01mreturn\u001b[39;00m \u001b[38;5;28mself\u001b[39m\u001b[38;5;241m.\u001b[39m_engine\u001b[38;5;241m.\u001b[39mget_loc(casted_key)\n\u001b[0;32m   3803\u001b[0m \u001b[38;5;28;01mexcept\u001b[39;00m \u001b[38;5;167;01mKeyError\u001b[39;00m \u001b[38;5;28;01mas\u001b[39;00m err:\n",
      "File \u001b[1;32m~\\anaconda3\\Lib\\site-packages\\pandas\\_libs\\index.pyx:138\u001b[0m, in \u001b[0;36mpandas._libs.index.IndexEngine.get_loc\u001b[1;34m()\u001b[0m\n",
      "File \u001b[1;32m~\\anaconda3\\Lib\\site-packages\\pandas\\_libs\\index.pyx:165\u001b[0m, in \u001b[0;36mpandas._libs.index.IndexEngine.get_loc\u001b[1;34m()\u001b[0m\n",
      "File \u001b[1;32mpandas\\_libs\\hashtable_class_helper.pxi:5745\u001b[0m, in \u001b[0;36mpandas._libs.hashtable.PyObjectHashTable.get_item\u001b[1;34m()\u001b[0m\n",
      "File \u001b[1;32mpandas\\_libs\\hashtable_class_helper.pxi:5753\u001b[0m, in \u001b[0;36mpandas._libs.hashtable.PyObjectHashTable.get_item\u001b[1;34m()\u001b[0m\n",
      "\u001b[1;31mKeyError\u001b[0m: 'min_distance'",
      "\nThe above exception was the direct cause of the following exception:\n",
      "\u001b[1;31mKeyError\u001b[0m                                  Traceback (most recent call last)",
      "Cell \u001b[1;32mIn[63], line 5\u001b[0m\n\u001b[0;32m      3\u001b[0m fig, (ax2) \u001b[38;5;241m=\u001b[39m plt\u001b[38;5;241m.\u001b[39msubplots(\u001b[38;5;241m1\u001b[39m)\n\u001b[0;32m      4\u001b[0m fig\u001b[38;5;241m.\u001b[39msuptitle(\u001b[38;5;124m'\u001b[39m\u001b[38;5;124mExperiment Performance- Cross over \u001b[39m\u001b[38;5;124m'\u001b[39m)\n\u001b[1;32m----> 5\u001b[0m ax2\u001b[38;5;241m.\u001b[39mplot(iterations, iteration_db1[\u001b[38;5;124m'\u001b[39m\u001b[38;5;124mmin_distance\u001b[39m\u001b[38;5;124m'\u001b[39m])\n\u001b[0;32m      6\u001b[0m plt\u001b[38;5;241m.\u001b[39mxlabel(\u001b[38;5;124m\"\u001b[39m\u001b[38;5;124mIteration\u001b[39m\u001b[38;5;124m\"\u001b[39m)\n\u001b[0;32m      7\u001b[0m plt\u001b[38;5;241m.\u001b[39mylabel(\u001b[38;5;124m\"\u001b[39m\u001b[38;5;124mDistance\u001b[39m\u001b[38;5;124m\"\u001b[39m)\n",
      "File \u001b[1;32m~\\anaconda3\\Lib\\site-packages\\pandas\\core\\frame.py:3807\u001b[0m, in \u001b[0;36mDataFrame.__getitem__\u001b[1;34m(self, key)\u001b[0m\n\u001b[0;32m   3805\u001b[0m \u001b[38;5;28;01mif\u001b[39;00m \u001b[38;5;28mself\u001b[39m\u001b[38;5;241m.\u001b[39mcolumns\u001b[38;5;241m.\u001b[39mnlevels \u001b[38;5;241m>\u001b[39m \u001b[38;5;241m1\u001b[39m:\n\u001b[0;32m   3806\u001b[0m     \u001b[38;5;28;01mreturn\u001b[39;00m \u001b[38;5;28mself\u001b[39m\u001b[38;5;241m.\u001b[39m_getitem_multilevel(key)\n\u001b[1;32m-> 3807\u001b[0m indexer \u001b[38;5;241m=\u001b[39m \u001b[38;5;28mself\u001b[39m\u001b[38;5;241m.\u001b[39mcolumns\u001b[38;5;241m.\u001b[39mget_loc(key)\n\u001b[0;32m   3808\u001b[0m \u001b[38;5;28;01mif\u001b[39;00m is_integer(indexer):\n\u001b[0;32m   3809\u001b[0m     indexer \u001b[38;5;241m=\u001b[39m [indexer]\n",
      "File \u001b[1;32m~\\anaconda3\\Lib\\site-packages\\pandas\\core\\indexes\\base.py:3804\u001b[0m, in \u001b[0;36mIndex.get_loc\u001b[1;34m(self, key, method, tolerance)\u001b[0m\n\u001b[0;32m   3802\u001b[0m     \u001b[38;5;28;01mreturn\u001b[39;00m \u001b[38;5;28mself\u001b[39m\u001b[38;5;241m.\u001b[39m_engine\u001b[38;5;241m.\u001b[39mget_loc(casted_key)\n\u001b[0;32m   3803\u001b[0m \u001b[38;5;28;01mexcept\u001b[39;00m \u001b[38;5;167;01mKeyError\u001b[39;00m \u001b[38;5;28;01mas\u001b[39;00m err:\n\u001b[1;32m-> 3804\u001b[0m     \u001b[38;5;28;01mraise\u001b[39;00m \u001b[38;5;167;01mKeyError\u001b[39;00m(key) \u001b[38;5;28;01mfrom\u001b[39;00m \u001b[38;5;21;01merr\u001b[39;00m\n\u001b[0;32m   3805\u001b[0m \u001b[38;5;28;01mexcept\u001b[39;00m \u001b[38;5;167;01mTypeError\u001b[39;00m:\n\u001b[0;32m   3806\u001b[0m     \u001b[38;5;66;03m# If we have a listlike key, _check_indexing_error will raise\u001b[39;00m\n\u001b[0;32m   3807\u001b[0m     \u001b[38;5;66;03m#  InvalidIndexError. Otherwise we fall through and re-raise\u001b[39;00m\n\u001b[0;32m   3808\u001b[0m     \u001b[38;5;66;03m#  the TypeError.\u001b[39;00m\n\u001b[0;32m   3809\u001b[0m     \u001b[38;5;28mself\u001b[39m\u001b[38;5;241m.\u001b[39m_check_indexing_error(key)\n",
      "\u001b[1;31mKeyError\u001b[0m: 'min_distance'"
     ]
    },
    {
     "data": {
      "image/png": "[encoded data removed]",
      "text/plain": [
       "<Figure size 640x480 with 1 Axes>"
      ]
     },
     "metadata": {},
     "output_type": "display_data"
    }
   ],
   "source": [
    " # Plot convergence curve\n",
    "    \n",
    "fig, (ax2) = plt.subplots(1)\n",
    "fig.suptitle('Experiment Performance- Cross over ')\n",
    "ax2.plot(iterations, iteration_db1['min_distance'])\n",
    "plt.xlabel(\"Iteration\")\n",
    "plt.ylabel(\"Distance\")\n",
    "plt.title(\"Convergence Curve\")\n",
    "plt.show()\n"
   ]
  },
  {
   "cell_type": "code",
   "execution_count": 13,
   "id": "19504bc2",
   "metadata": {},
   "outputs": [
    {
     "data": {
      "image/png": "[encoded data removed]",
      "text/plain": [
       "<Figure size 640x480 with 1 Axes>"
      ]
     },
     "metadata": {},
     "output_type": "display_data"
    },
    {
     "name": "stdout",
     "output_type": "stream",
     "text": [
      "Best Tour: [0, 1, 7, 10, 8, 12, 11, 13, 6, 5, 2, 3, 4, 9]\n",
      "Best Distance: 10569.695318265945\n"
     ]
    }
   ],
   "source": [
    "plt.plot(distances_log)\n",
    "plt.xlabel(\"Generation\")\n",
    "plt.ylabel(\"Best Distance\")\n",
    "plt.title(\"Convergence Curve\")\n",
    "plt.show()\n",
    "print(\"Best Tour:\", best_tour)\n",
    "print(\"Best Distance:\", best_distance)"
   ]
  },
  {
   "cell_type": "markdown",
   "id": "c7d5fc1a",
   "metadata": {},
   "source": [
    "#Brazil:"
   ]
  },
  {
   "cell_type": "code",
   "execution_count": 14,
   "id": "9a13f376",
   "metadata": {},
   "outputs": [
    {
     "name": "stdout",
     "output_type": "stream",
     "text": [
      "Evelotionary algorithm takes 5.912429 seconds\n"
     ]
    }
   ],
   "source": [
    "print ('Evelotionary algorithm takes %f' %(t1-t0)+ ' seconds')"
   ]
  }
 ],
 "metadata": {
  "kernelspec": {
   "display_name": "Python 3 (ipykernel)",
   "language": "python",
   "name": "python3"
  },
  "language_info": {
   "codemirror_mode": {
    "name": "ipython",
    "version": 3
   },
   "file_extension": ".py",
   "mimetype": "text/x-python",
   "name": "python",
   "nbconvert_exporter": "python",
   "pygments_lexer": "ipython3",
   "version": "3.11.3"
  }
 },
 "nbformat": 4,
 "nbformat_minor": 5
}
