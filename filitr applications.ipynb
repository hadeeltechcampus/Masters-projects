{
  "cells": [
    {
      "cell_type": "code",
      "execution_count": 1,
      "metadata": {
        "colab": {
          "base_uri": "https://localhost:8080/"
        },
        "id": "KdfBb7lT4SLc",
        "outputId": "c4fe8826-21c3-4aa8-af5f-bce4b06b1444"
      },
      "outputs": [
        {
          "name": "stdout",
          "output_type": "stream",
          "text": [
            "Mounted at /content/drive\n"
          ]
        }
      ],
      "source": [
        "from google.colab import drive\n",
        "drive.mount('/content/drive')"
      ]
    },
    {
      "cell_type": "code",
      "execution_count": 2,
      "metadata": {
        "id": "U0XYb31B3_jE"
      },
      "outputs": [],
      "source": [
        "import torch\n",
        "import torch.nn as nn\n",
        "import torch.optim as optim\n",
        "from torchvision import transforms\n",
        "from torch.optim.lr_scheduler import StepLR ,ReduceLROnPlateau\n",
        "from torchvision import transforms, datasets, models\n",
        "from torch.utils.data import DataLoader\n",
        "import torchvision\n",
        "import torch.optim.lr_scheduler as lr_scheduler\n",
        "import torch.nn.functional as F\n",
        "from tqdm import tqdm_notebook as tqdm"
      ]
    },
    {
      "cell_type": "markdown",
      "metadata": {
        "id": "GzMuo2LYZ7tj"
      },
      "source": [
        "### Question 4 (10 marks)\n",
        "Write a function train_cnn(model, train_loader) to train the following version of the Residual\n",
        "Network (ResNet) model on the EXCV10 (Exeter Computer Vision 10) dataset\n",
        "\n",
        "#### Inputs\n",
        "• model is an instantiation of ResNet class which can be created as follows:\n",
        "ResNet(block=BasicBlock, layers=[1, 1, 1], num_classes=num_classes). An example of\n",
        "this can be found in the below snippet.\n",
        "• train_loader is the training data loader. You can create the dataset and data loader for\n",
        "your training following the example in the snippet below. Feel free to try other data\n",
        "augmentation and regularisation techniques to train a better model.\n",
        "\n",
        "### Outputs\n",
        "• This function should not necessarily return any output, instead it should save your best\n",
        "model at data/weights_resnet.pth."
      ]
    },
    {
      "cell_type": "code",
      "execution_count": 5,
      "metadata": {
        "colab": {
          "base_uri": "https://localhost:8080/"
        },
        "id": "ywrwvsdkdw2t",
        "outputId": "35fbc57a-e266-4188-a004-f4f3863eecf5"
      },
      "outputs": [
        {
          "name": "stdout",
          "output_type": "stream",
          "text": [
            "Training complete!\n"
          ]
        }
      ],
      "source": [
        "def train_cnn(model, train_loader):\n",
        "\n",
        "  # Training setup\n",
        "    num_epochs=50\n",
        "    lr=0.001\n",
        "    weight_decay = 0.0005\n",
        "    device = torch.device(\"cuda\" if torch.cuda.is_available() else \"cpu\")\n",
        "    model = model.to(device)\n",
        "    criterion = nn.CrossEntropyLoss()\n",
        "    #optimizer = optim.Adam(model.parameters(), lr=lr)\n",
        "    optimizer = optim.AdamW(model.parameters(), lr=lr, weight_decay=weight_decay,betas=(0.9, 0.999), eps=1e-08)\n",
        "    scheduler = StepLR(optimizer, step_size=7, gamma=0.99)  # Learning rate scheduler\n",
        "    #scheduler = ReduceLROnPlateau(optimizer, 'min', patience=2, factor=0.1)\n",
        "\n",
        "    #  image transform\n",
        "    image_transform =transforms.Compose([\n",
        "    transforms.RandomHorizontalFlip(),  # Randomly flip the images horizontally\n",
        "    transforms.RandomRotation(10),  # Randomly rotate the images by 10 degrees\n",
        "    transforms.ToTensor(),  # Convert images to PyTorch tensors\n",
        "    transforms.Normalize((0.5, 0.5, 0.5), (0.5, 0.5, 0.5)),  # Normalize images\n",
        "])\n",
        "\n",
        "    # Data loaders\n",
        "    val_data = datasets.ImageFolder(\"drive/MyDrive/Colab Notebooks/EXCV10/val\", transform=image_transform)\n",
        "    val_loader = DataLoader(val_data, batch_size=128, shuffle=True, num_workers=6, pin_memory=True)\n",
        "\n",
        "\n",
        "    best_val_acc = 0.0\n",
        "\n",
        "        # make the parameters trainable\n",
        "    for param in model.parameters():\n",
        "        param.requires_grad = True\n",
        "\n",
        "\n",
        "    for epoch in range(1, num_epochs + 1):\n",
        "        model.train()\n",
        "        for inputs, labels in train_loader:\n",
        "            inputs, labels = inputs.to(device), labels.to(device)\n",
        "            optimizer.zero_grad()\n",
        "            outputs = model(inputs)\n",
        "            loss = criterion(outputs, labels)\n",
        "            loss.backward()\n",
        "            optimizer.step()\n",
        "            scheduler.step()\n",
        "\n",
        "        print(f\" Epoch : {epoch} ,Training Loss: {loss / len(train_loader)}\")\n",
        "\n",
        "        # Validation\n",
        "        model.eval()\n",
        "        correct = 0\n",
        "        total = 0\n",
        "        with torch.no_grad():\n",
        "            for inputs, labels in val_loader:\n",
        "                inputs, labels = inputs.to(device), labels.to(device)\n",
        "                outputs = model(inputs)\n",
        "                _, predicted = torch.max(outputs, 1)\n",
        "                total += labels.size(0)\n",
        "                correct += (predicted == labels).sum().item()\n",
        "\n",
        "        val_acc = (correct / total)*100\n",
        "        print(f\" Validation Accuracy: {val_acc:.2f}%\")\n",
        "\n",
        "        scheduler.step(loss / len(val_loader))\n",
        "\n",
        "\n",
        "        # Save the best model\n",
        "        if val_acc > best_val_acc:\n",
        "            best_val_acc = val_acc\n",
        "            torch.save(model.state_dict(), r'weights_resnet.pth')\n",
        "\n",
        "\n",
        "print(\"Training complete!\")\n",
        "\n",
        "\n",
        "\n",
        "\n"
      ]
    },
    {
      "cell_type": "code",
      "execution_count": 8,
      "metadata": {
        "colab": {
          "base_uri": "https://localhost:8080/"
        },
        "id": "QatQ1H0B3_jE",
        "outputId": "49048f78-fa2d-481c-ca51-95573d3c4475"
      },
      "outputs": [
        {
          "name": "stdout",
          "output_type": "stream",
          "text": [
            " Epoch : 1 ,Training Loss: 0.025418976321816444\n",
            " Validation Accuracy: 38.16%\n",
            " Epoch : 2 ,Training Loss: 0.023160062730312347\n",
            " Validation Accuracy: 38.66%\n",
            " Epoch : 3 ,Training Loss: 0.022208016365766525\n",
            " Validation Accuracy: 42.86%\n",
            " Epoch : 4 ,Training Loss: 0.022868944332003593\n",
            " Validation Accuracy: 50.75%\n",
            " Epoch : 5 ,Training Loss: 0.017971664667129517\n",
            " Validation Accuracy: 40.76%\n",
            " Epoch : 6 ,Training Loss: 0.016451748088002205\n",
            " Validation Accuracy: 50.55%\n",
            " Epoch : 7 ,Training Loss: 0.021881939843297005\n",
            " Validation Accuracy: 44.76%\n",
            " Epoch : 8 ,Training Loss: 0.01851898804306984\n",
            " Validation Accuracy: 55.89%\n",
            " Epoch : 9 ,Training Loss: 0.018099727109074593\n",
            " Validation Accuracy: 52.35%\n",
            " Epoch : 10 ,Training Loss: 0.013768104836344719\n",
            " Validation Accuracy: 54.90%\n",
            " Epoch : 11 ,Training Loss: 0.018743963912129402\n",
            " Validation Accuracy: 55.09%\n",
            " Epoch : 12 ,Training Loss: 0.018752826377749443\n",
            " Validation Accuracy: 57.29%\n",
            " Epoch : 13 ,Training Loss: 0.01693052239716053\n",
            " Validation Accuracy: 57.84%\n",
            " Epoch : 14 ,Training Loss: 0.012888941913843155\n",
            " Validation Accuracy: 56.19%\n",
            " Epoch : 15 ,Training Loss: 0.011013519950211048\n",
            " Validation Accuracy: 58.59%\n",
            " Epoch : 16 ,Training Loss: 0.01767534576356411\n",
            " Validation Accuracy: 59.99%\n",
            " Epoch : 17 ,Training Loss: 0.016481462866067886\n",
            " Validation Accuracy: 36.66%\n",
            " Epoch : 18 ,Training Loss: 0.012417339719831944\n",
            " Validation Accuracy: 62.54%\n",
            " Epoch : 19 ,Training Loss: 0.015369509346783161\n",
            " Validation Accuracy: 59.89%\n",
            " Epoch : 20 ,Training Loss: 0.010777883231639862\n",
            " Validation Accuracy: 63.44%\n",
            " Epoch : 21 ,Training Loss: 0.011920472607016563\n",
            " Validation Accuracy: 62.74%\n",
            " Epoch : 22 ,Training Loss: 0.011686287820339203\n",
            " Validation Accuracy: 64.59%\n",
            " Epoch : 23 ,Training Loss: 0.009711934253573418\n",
            " Validation Accuracy: 56.24%\n",
            " Epoch : 24 ,Training Loss: 0.010121796280145645\n",
            " Validation Accuracy: 56.49%\n",
            " Epoch : 25 ,Training Loss: 0.011929506435990334\n",
            " Validation Accuracy: 49.10%\n",
            " Epoch : 26 ,Training Loss: 0.013422295451164246\n",
            " Validation Accuracy: 60.99%\n",
            " Epoch : 27 ,Training Loss: 0.014012529514729977\n",
            " Validation Accuracy: 61.54%\n",
            " Epoch : 28 ,Training Loss: 0.012587162666022778\n",
            " Validation Accuracy: 66.88%\n",
            " Epoch : 29 ,Training Loss: 0.00854414515197277\n",
            " Validation Accuracy: 68.93%\n",
            " Epoch : 30 ,Training Loss: 0.011201942339539528\n",
            " Validation Accuracy: 66.28%\n",
            " Epoch : 31 ,Training Loss: 0.011861460283398628\n",
            " Validation Accuracy: 63.19%\n",
            " Epoch : 32 ,Training Loss: 0.011578310281038284\n",
            " Validation Accuracy: 64.84%\n",
            " Epoch : 33 ,Training Loss: 0.010235746391117573\n",
            " Validation Accuracy: 66.93%\n",
            " Epoch : 34 ,Training Loss: 0.009424475952982903\n",
            " Validation Accuracy: 62.79%\n",
            " Epoch : 35 ,Training Loss: 0.010573760606348515\n",
            " Validation Accuracy: 67.93%\n",
            " Epoch : 36 ,Training Loss: 0.010419008322060108\n",
            " Validation Accuracy: 62.04%\n",
            " Epoch : 37 ,Training Loss: 0.013359679840505123\n",
            " Validation Accuracy: 63.84%\n",
            " Epoch : 38 ,Training Loss: 0.009953834116458893\n",
            " Validation Accuracy: 69.53%\n",
            " Epoch : 39 ,Training Loss: 0.008047111332416534\n",
            " Validation Accuracy: 62.74%\n",
            " Epoch : 40 ,Training Loss: 0.011476501822471619\n",
            " Validation Accuracy: 70.18%\n",
            " Epoch : 41 ,Training Loss: 0.012863301672041416\n",
            " Validation Accuracy: 66.83%\n",
            " Epoch : 42 ,Training Loss: 0.008914748206734657\n",
            " Validation Accuracy: 67.98%\n",
            " Epoch : 43 ,Training Loss: 0.006211929488927126\n",
            " Validation Accuracy: 69.03%\n",
            " Epoch : 44 ,Training Loss: 0.007856300100684166\n",
            " Validation Accuracy: 70.43%\n",
            " Epoch : 45 ,Training Loss: 0.011800042353570461\n",
            " Validation Accuracy: 61.64%\n",
            " Epoch : 46 ,Training Loss: 0.008402698673307896\n",
            " Validation Accuracy: 59.49%\n",
            " Epoch : 47 ,Training Loss: 0.008972675539553165\n",
            " Validation Accuracy: 60.89%\n",
            " Epoch : 48 ,Training Loss: 0.012373463250696659\n",
            " Validation Accuracy: 63.64%\n",
            " Epoch : 49 ,Training Loss: 0.00810835137963295\n",
            " Validation Accuracy: 70.83%\n",
            " Epoch : 50 ,Training Loss: 0.00828147865831852\n",
            " Validation Accuracy: 67.93%\n"
          ]
        }
      ],
      "source": [
        "\n",
        "#transform\n",
        "#  image transform\n",
        "image_transform =transforms.Compose([\n",
        "    transforms.RandomHorizontalFlip(),  # Randomly flip the images horizontally\n",
        "    transforms.RandomRotation(10),  # Randomly rotate the images by 10 degrees\n",
        "    transforms.ToTensor(),  # Convert images to PyTorch tensors\n",
        "    transforms.Normalize((0.5, 0.5, 0.5), (0.5, 0.5, 0.5)),  # Normalize images\n",
        "])\n",
        "\n",
        "# Dataset\n",
        "train_data = datasets.ImageFolder('drive/MyDrive/Colab Notebooks/EXCV10/train', transform=image_transform)\n",
        "\n",
        "# Data loaders\n",
        "train_loader = DataLoader(train_data, batch_size=128, shuffle=True, num_workers=6, pin_memory=True)\n",
        "\n",
        "# ResNet model\n",
        "from ca_utils import ResNet,BasicBlock\n",
        "model = ResNet(BasicBlock, layers=[1,1,1], num_classes=10)\n",
        "\n",
        "# Train the model\n",
        "train_cnn(model, train_loader)"
      ]
    },
    {
      "cell_type": "markdown",
      "metadata": {
        "id": "A3o4fXBsZQxV"
      },
      "source": [
        "### Question 5 (15 marks)\n",
        "Write a function test_cnn(model, test_loader) which will return the predicted labels by the\n",
        "model that you trained in the previous question for all the images supplied in the test_loader\n",
        "object. The test set will contain 3000 images (300 images/class) from the same distribution as\n",
        "of the EXCV10 dataset.\n",
        "#### Inputs\n",
        "• model is an instantiation of ResNet class which can created as follows\n",
        "ResNet(block=BasicBlock, layers=[1, 1, 1], num_classes=num_classes).  \n",
        "• test_loader is the data loader containing test data. The test data loader can be created\n",
        "following the example in the cell below. We will only use vanilla transformation to the\n",
        "test dataset.\n",
        "### Outputs\n",
        "• This function should return a 1-dimensional numpy array of data type int64\n",
        "containing the predicted labels of the images in the test_loader object.\n",
        "• This function should also return the classification accuracy as a percentage"
      ]
    },
    {
      "cell_type": "code",
      "execution_count": 49,
      "metadata": {
        "id": "stW6MweX2RI4"
      },
      "outputs": [],
      "source": [
        "import torch\n",
        "import numpy as np\n",
        "\n",
        "def test_cnn(model, test_loader):\n",
        "    device = torch.device(\"cuda\" if torch.cuda.is_available() else \"cpu\")\n",
        "    model.to(device)\n",
        "    model.eval()\n",
        "\n",
        "    predicted_labels = []\n",
        "    correct_predictions = 0\n",
        "    total_samples = 0\n",
        "\n",
        "    with torch.no_grad():\n",
        "        for inputs, labels in test_loader:\n",
        "            inputs, labels = inputs.to(device), labels.to(device)\n",
        "\n",
        "            outputs = model(inputs)\n",
        "            _, predicted = torch.max(outputs, 1)\n",
        "\n",
        "            predicted_labels.extend(predicted.cpu().numpy())\n",
        "            correct_predictions += (predicted == labels).sum().item()\n",
        "            total_samples += labels.size(0)\n",
        "\n",
        "    accuracy = correct_predictions / total_samples * 100\n",
        "    predicted_labels = np.array(predicted_labels, dtype=np.int64)\n",
        "\n",
        "    return predicted_labels, accuracy\n"
      ]
    },
    {
      "cell_type": "code",
      "execution_count": 52,
      "metadata": {
        "colab": {
          "base_uri": "https://localhost:8080/"
        },
        "id": "1a2h9LwVjkyF",
        "outputId": "d3d7a1da-2635-4e1a-88ce-e3aa7aeb570e"
      },
      "outputs": [
        {
          "name": "stdout",
          "output_type": "stream",
          "text": [
            "Test Accuracy: 72.53%\n",
            "Predicted Labels: [0 0 0 ... 9 9 9]\n"
          ]
        }
      ],
      "source": [
        "from PIL import Image\n",
        "from torchvision import transforms, datasets\n",
        "\n",
        "class EXCV10TestImageFolder(datasets.ImageFolder):\n",
        "\n",
        "  def __init__(self,*args,**kwargs):\n",
        "      super(EXCV10TestImageFolder,self).__init__(*args,**kwargs)\n",
        "\n",
        "  def __getitem__(self,index):\n",
        "        img_path,label =self.imgs[index]\n",
        "        pic=Image.open(img_path).convert(\"RGB\")\n",
        "        if self.transform(pic) is not None:\n",
        "          img=self.transform(pic)\n",
        "        return img ,label\n",
        "\n",
        "#vanilla image transform\n",
        "test_transform = transforms.Compose([transforms.ToTensor(), transforms.Normalize((0.5, 0.5, 0.5), (0.5, 0.5, 0.5))])\n",
        "\n",
        "test_data = EXCV10TestImageFolder('drive/MyDrive/Colab Notebooks/EXCV10/val', transform=test_transform)\n",
        "test_loader = DataLoader(test_data, batch_size=128, shuffle=False, num_workers=6, pin_memory=True)\n",
        "\n",
        "# Example usage:\n",
        "predicted_labels, accuracy = test_cnn(model, test_loader)\n",
        "print(f\"Test Accuracy: {accuracy:.2f}%\")\n",
        "print(\"Predicted Labels:\", predicted_labels)\n",
        "\n",
        "#np.save(\"Q5Labels.npy\" , predicted_labels)\n",
        "#np.save(\"Q5Acc.npy\" , accuracy)"
      ]
    },
    {
      "cell_type": "code",
      "execution_count": 57,
      "metadata": {
        "colab": {
          "base_uri": "https://localhost:8080/"
        },
        "id": "kHadbxYot43c",
        "outputId": "b9c83e55-1c63-4d59-cb65-509167ae5f30"
      },
      "outputs": [
        {
          "name": "stdout",
          "output_type": "stream",
          "text": [
            "[0 0 0 ... 9 9 9]\n"
          ]
        },
        {
          "data": {
            "text/plain": [
              "dtype('int64')"
            ]
          },
          "execution_count": 57,
          "metadata": {},
          "output_type": "execute_result"
        }
      ],
      "source": [
        "q = np.load(\"Q5Labels.npy\")\n",
        "print(q)\n",
        "q.dtype"
      ]
    },
    {
      "cell_type": "markdown",
      "metadata": {
        "id": "IX5iR1bLasGn"
      },
      "source": [
        "### Question 6 (6 marks)\n",
        "Write compute_confusion_matrix(ture,predictions) to compute the confusion matrix for the\n",
        "output labels generated in Question 5.\n",
        "#### Inputs\n",
        "• true is a 1-dimensional array of true labels for the test data in Question 5\n",
        "• predictions is a 1-dimensional array of outputs from Question 5\n",
        "Data\n",
        "• You can use the output and true labels of Question 5 as your data"
      ]
    },
    {
      "cell_type": "code",
      "execution_count": 45,
      "metadata": {
        "id": "gNAHg27Ram49"
      },
      "outputs": [],
      "source": [
        "def compute_confusion_matrix(ture,predictions):\n",
        "    # Identify unique classes\n",
        "    classes = np.unique(np.concatenate((ture, predictions)))\n",
        "    class_map = {cls: idx for idx, cls in enumerate(classes)}\n",
        "\n",
        "    # Create the confusion matrix\n",
        "    conf_matrix = np.zeros((len(classes), len(classes)))\n",
        "\n",
        "    # Populate the confusion matrix\n",
        "    for actual, pred in zip(ture, predictions):\n",
        "        conf_matrix[class_map[actual], class_map[pred]] += 1\n",
        "\n",
        "    # Normalize the confusion matrix\n",
        "    conf_matrix_norm = conf_matrix / conf_matrix.sum(axis=1, keepdims=True)\n",
        "\n",
        "    # Round to three decimal points\n",
        "    conf_matrix_norm = np.round(conf_matrix_norm, 2)\n",
        "\n",
        "    return conf_matrix_norm"
      ]
    },
    {
      "cell_type": "code",
      "execution_count": 46,
      "metadata": {
        "id": "orOEZa6qb5Ht"
      },
      "outputs": [],
      "source": [
        "import torch\n",
        "import numpy as np\n",
        "from sklearn.metrics import ConfusionMatrixDisplay\n",
        "import matplotlib.pyplot as plt"
      ]
    },
    {
      "cell_type": "code",
      "execution_count": 59,
      "metadata": {
        "colab": {
          "base_uri": "https://localhost:8080/",
          "height": 484
        },
        "id": "Z2Gjn8J_bLyH",
        "outputId": "af471dc8-34d6-44bf-dc2c-b4eebccb04e4"
      },
      "outputs": [
        {
          "name": "stdout",
          "output_type": "stream",
          "text": [
            "Test Accuracy: 72.53%\n",
            "Predicted Labels: [0 0 0 ... 9 9 9]\n"
          ]
        },
        {
          "data": {
            "image/png": "[encoded data removed]",
            "text/plain": [
              "<Figure size 640x480 with 2 Axes>"
            ]
          },
          "metadata": {},
          "output_type": "display_data"
        }
      ],
      "source": [
        "# Example test loader creation:\n",
        "test_transform = transforms.Compose([transforms.ToTensor(), transforms.Normalize((0.5, 0.5, 0.5), (0.5, 0.5, 0.5))])\n",
        "test_data = EXCV10TestImageFolder('drive/MyDrive/Colab Notebooks/EXCV10/val', transform=test_transform)\n",
        "test_loader = DataLoader(test_data, batch_size=128, shuffle=False, num_workers=6, pin_memory=True)\n",
        "\n",
        "# Example usage:\n",
        "predicted_labels, accuracy = test_cnn(model, test_loader)\n",
        "print(f\"Test Accuracy: {accuracy:.2f}%\")\n",
        "print(\"Predicted Labels:\", predicted_labels)\n",
        "\n",
        "# Compute confusion matrix\n",
        "true_labels = np.array([label for _, label in test_data.samples])\n",
        "confusion_matrix_result = compute_confusion_matrix(true_labels, predicted_labels)\n",
        "\n",
        "disp = ConfusionMatrixDisplay(confusion_matrix=confusion_matrix_result,display_labels=['plane', 'bird', 'car','cat',\n",
        "           'deer', 'dog',  'horse','monkey', 'ship', 'truck'])\n",
        "disp.plot()\n",
        "plt.show()\n",
        "\n",
        "#print(\"Confusion Matrix:\")\n",
        "#print(confusion_matrix_result)\n",
        "\n",
        "np.save(\"Q6.npy\", confusion_matrix_result)\n"
      ]
    },
    {
      "cell_type": "code",
      "execution_count": 60,
      "metadata": {
        "colab": {
          "base_uri": "https://localhost:8080/"
        },
        "id": "KuI7Dv2Jb_ph",
        "outputId": "bfb12d5c-9840-4dac-a536-42b5c45b4b97"
      },
      "outputs": [
        {
          "name": "stdout",
          "output_type": "stream",
          "text": [
            "[[0.96 0.01 0.   0.   0.   0.   0.02 0.   0.   0.02]\n",
            " [0.08 0.66 0.   0.05 0.05 0.04 0.04 0.06 0.   0.  ]\n",
            " [0.02 0.01 0.8  0.   0.   0.   0.02 0.   0.   0.14]\n",
            " [0.   0.06 0.   0.54 0.1  0.14 0.05 0.1  0.   0.  ]\n",
            " [0.02 0.02 0.   0.03 0.71 0.07 0.12 0.04 0.   0.  ]\n",
            " [0.   0.03 0.   0.1  0.04 0.52 0.2  0.09 0.   0.  ]\n",
            " [0.01 0.   0.   0.02 0.02 0.08 0.84 0.02 0.   0.  ]\n",
            " [0.01 0.07 0.   0.06 0.04 0.04 0.06 0.7  0.   0.  ]\n",
            " [0.18 0.   0.01 0.   0.   0.01 0.   0.   0.62 0.18]\n",
            " [0.03 0.   0.03 0.   0.   0.   0.05 0.   0.   0.89]]\n"
          ]
        },
        {
          "data": {
            "text/plain": [
              "dtype('float64')"
            ]
          },
          "execution_count": 60,
          "metadata": {},
          "output_type": "execute_result"
        }
      ],
      "source": [
        "q1 = np.load(\"Q6.npy\")\n",
        "print(q1)\n",
        "q1.dtype"
      ]
    },
    {
      "cell_type": "code",
      "execution_count": null,
      "metadata": {
        "id": "UMESVVVytIqD"
      },
      "outputs": [],
      "source": []
    }
  ],
  "metadata": {
    "accelerator": "GPU",
    "colab": {
      "gpuType": "T4",
      "provenance": []
    },
    "kernelspec": {
      "display_name": "Python 3",
      "name": "python3"
    },
    "language_info": {
      "codemirror_mode": {
        "name": "ipython",
        "version": 3
      },
      "file_extension": ".py",
      "mimetype": "text/x-python",
      "name": "python",
      "nbconvert_exporter": "python",
      "pygments_lexer": "ipython3",
      "version": "3.8.18"
    }
  },
  "nbformat": 4,
  "nbformat_minor": 0
}
