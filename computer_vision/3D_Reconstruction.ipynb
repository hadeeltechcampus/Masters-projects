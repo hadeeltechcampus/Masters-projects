{
  "nbformat": 4,
  "nbformat_minor": 0,
  "metadata": {
    "colab": {
      "provenance": []
    },
    "kernelspec": {
      "name": "python3",
      "language": "python",
      "display_name": "Python 3"
    }
  },
  "cells": [
    {
      "cell_type": "markdown",
      "metadata": {
        "id": "LFun_nsiB0YR",
        "pycharm": {}
      },
      "source": [
        "\n",
        "<H1 style=\"text-align: center\">ECMM426 - Computer Vision </H1>\n",
        "<H1 style=\"text-align: center\">Workshop 5</H1>\n",
        "<H1 style=\"text-align: center\">3D Reconstruction</H1>\n",
        "\n",
        "\n"
      ]
    },
    {
      "cell_type": "markdown",
      "metadata": {
        "id": "s0STvCmpCOOc",
        "pycharm": {}
      },
      "source": [
        "## Imports"
      ]
    },
    {
      "cell_type": "code",
      "metadata": {
        "id": "KlUWekqwBz0x",
        "pycharm": {}
      },
      "source": [
        "import numpy as np\n",
        "from matplotlib import pyplot as plt\n",
        "plt.rcParams['figure.figsize'] = (20.0, 10.0)\n",
        "\n",
        "# install and then import opencv\n",
        "!pip3 install opencv-python==4.5.1.48\n",
        "import cv2\n",
        "\n",
        "print('OpenCV version: {}'.format(cv2.__version__))"
      ],
      "execution_count": null,
      "outputs": []
    },
    {
      "cell_type": "markdown",
      "metadata": {
        "id": "Stq8RlrUCtiq",
        "pycharm": {}
      },
      "source": [
        "## Download Images\n",
        "\n",
        "Download some images and prepare for reading"
      ]
    },
    {
      "cell_type": "code",
      "metadata": {
        "id": "ouWRr9zkBxud",
        "pycharm": {}
      },
      "source": [
        "import os\n",
        "if not os.path.exists('paired_image.zip'):\n",
        "  !wget --no-check-certificate https://empslocal.ex.ac.uk/people/staff/ad735/ECMM426/paired_image.zip\n",
        "  !unzip -q paired_image.zip"
      ],
      "execution_count": null,
      "outputs": []
    },
    {
      "cell_type": "markdown",
      "metadata": {
        "id": "7MRvXK8pMycE",
        "pycharm": {}
      },
      "source": [
        "## 3D Reconstruction Example"
      ]
    },
    {
      "cell_type": "code",
      "metadata": {
        "id": "uQFS83LbEDua",
        "pycharm": {}
      },
      "source": [
        "MIN_MATCH_COUNT = 10\n",
        "\n",
        "#TODO: Load Different Image Pairs\n",
        "dir_name = 'paired_image'\n",
        "img_name1 = os.path.join(dir_name, 'view01.png')\n",
        "img_name2 = os.path.join(dir_name, 'view02.png')\n",
        "counter = 0"
      ],
      "execution_count": null,
      "outputs": []
    },
    {
      "cell_type": "markdown",
      "metadata": {
        "id": "sTYg06j7KdZI",
        "pycharm": {}
      },
      "source": [
        "### Read the Paired Images"
      ]
    },
    {
      "cell_type": "code",
      "metadata": {
        "id": "dPdiJ1X8Ej12",
        "pycharm": {}
      },
      "source": [
        "img1 = cv2.cvtColor(cv2.imread(img_name1), cv2.COLOR_BGR2RGB)\n",
        "img2 = cv2.cvtColor(cv2.imread(img_name2), cv2.COLOR_BGR2RGB)\n",
        "\n",
        "plt.subplot(1, 2, 1); plt.imshow(img1)\n",
        "plt.subplot(1, 2, 2); plt.imshow(img2)"
      ],
      "execution_count": null,
      "outputs": []
    },
    {
      "cell_type": "markdown",
      "metadata": {
        "id": "3gOV9MqdKU2e",
        "pycharm": {}
      },
      "source": [
        "### SIFT Feature Extraction and Matching"
      ]
    },
    {
      "cell_type": "code",
      "metadata": {
        "id": "zcktUlBFH2SG",
        "pycharm": {}
      },
      "source": [
        "# create a SIFT detector\n",
        "sift = cv2.SIFT_create()\n",
        "\n",
        "#detect SIFT features for both images\n",
        "kp1, des1 = sift.detectAndCompute(img1, None)\n",
        "kp2, des2 = sift.detectAndCompute(img2, None)\n",
        "\n",
        "#use flann to perform feature matching\n",
        "FLANN_INDEX_KDTREE = 0\n",
        "index_params = dict(algorithm = FLANN_INDEX_KDTREE, trees = 5)\n",
        "search_params = dict(checks = 50)\n",
        "\n",
        "flann = cv2.FlannBasedMatcher(index_params, search_params)\n",
        "\n",
        "matches = flann.knnMatch(des1, des2, k=2)\n",
        "\n",
        "# store all the good matches as per Lowe's ratio test.\n",
        "good = []\n",
        "for m, n in matches:\n",
        "  if m.distance < 0.5*n.distance:\n",
        "    good.append(m)\n",
        "\n",
        "if len(good)>MIN_MATCH_COUNT:\n",
        "    p1 = np.float32([kp1[m.queryIdx].pt for m in good ]).reshape(-1,2)\n",
        "    p2 = np.float32([kp2[m.trainIdx].pt for m in good ]).reshape(-1,2)\n",
        "\n",
        "draw_params = dict(matchColor = (0, 255, 0), # draw matches in green color\n",
        "                   singlePointColor = None,\n",
        "                   flags = 2)\n",
        "\n",
        "img_siftmatch = cv2.drawMatches(img1, kp1, img2, kp2, good, None, **draw_params)\n",
        "\n",
        "plt.imshow(img_siftmatch)"
      ],
      "execution_count": null,
      "outputs": []
    },
    {
      "cell_type": "markdown",
      "metadata": {
        "id": "eDdkfr1jZGjO",
        "pycharm": {}
      },
      "source": [
        "In the above cell, `p1` and `p2` are the arrays containing points with correspondences.\n",
        "## Get the extrinsic parameters"
      ]
    },
    {
      "cell_type": "code",
      "metadata": {
        "id": "29lCY2p5YtQI",
        "pycharm": {}
      },
      "source": [
        "camera_params = np.load('paired_image/camera_params.npz')\n",
        "R1 = camera_params['R1']\n",
        "R2 = camera_params['R2']\n",
        "T1 = camera_params['T1']\n",
        "T2 = camera_params['T2']"
      ],
      "execution_count": null,
      "outputs": []
    },
    {
      "cell_type": "markdown",
      "metadata": {
        "id": "7189ADe4Zjyd",
        "pycharm": {}
      },
      "source": [
        "## Formulation\n",
        "Let $\\mathbf{X}$, $R$, $T$ be the 3D points, rotation and transformation matrices. Then the projection of $\\mathbf{X}$ to the image plane can be written as:\n",
        "$$p_i = R_i\\mathbf{X} + T_i$$\n",
        "If we consider reconstructing the 3D points from two different images, the solution of $X$ can be obtained by reducing the following error term:\n",
        "$$E(\\mathbf{X})=\\sum_{i=1}^{2}||R_i\\mathbf{X}+T_i-p_i||^2$$\n",
        "which has the following form\n",
        "$$\\sum||A\\mathbf{X}-b||^2$$\n",
        "where $A=\\begin{bmatrix}R_1\\\\R_2\\end{bmatrix}$ and $b=\\begin{bmatrix}p_1-T_1\\\\p_2-T_2\\end{bmatrix}$\n",
        "\n",
        "Below we show how to construct the $A$ and $b$ matrices\n"
      ]
    },
    {
      "cell_type": "code",
      "metadata": {
        "id": "kgKZybgKPBPl",
        "pycharm": {}
      },
      "source": [
        "A = np.concatenate((R1, R2), axis=0)\n",
        "b = np.concatenate((np.transpose(p1 - T1), np.transpose(p2 - T2)), axis=0)"
      ],
      "execution_count": null,
      "outputs": []
    },
    {
      "cell_type": "markdown",
      "metadata": {
        "id": "1kdv590jejtH",
        "pycharm": {}
      },
      "source": [
        "Once we have the $A$ and $b$ matrices, we can find the solution of $\\mathbf{X}$ as follows:\n",
        "$$\\mathbf{X}=(A^TA)^{-1}A^Tb$$\n",
        "where `np.linalg.pinv(A)` computes the expression $(A^TA)^{-1}A^T$."
      ]
    },
    {
      "cell_type": "code",
      "metadata": {
        "id": "3M0S92piHZIp",
        "pycharm": {}
      },
      "source": [
        "import plotly.graph_objects as go\n",
        "p3D = np.transpose(np.matmul(np.linalg.pinv(A), b))\n",
        "fig = go.Figure(data=[go.Scatter3d(x=p3D[:, 0], y=p3D[:, 1], z=p3D[:, 2],  mode='markers')])\n",
        "fig.show()"
      ],
      "execution_count": null,
      "outputs": []
    }
  ]
}